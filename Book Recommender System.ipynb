{
 "cells": [
  {
   "cell_type": "code",
   "execution_count": null,
   "id": "8d94a262",
   "metadata": {},
   "outputs": [],
   "source": [
    "import pandas as pd\n",
    "import codecademylib3\n",
    "from surprise import Reader\n",
    "\n",
    "book_ratings = pd.read_csv('goodreads_ratings.csv')\n",
    "print(book_ratings.head())\n",
    "\n",
    "#1. Print dataset size and examine column data types\n",
    "print(len(book_ratings))\n",
    "print(book_ratings.info())\n",
    "\n",
    "#2. Distribution of ratings\n",
    "print(book_ratings['rating'].value_counts())\n",
    "\n",
    "#3. Filter ratings that are out of range\n",
    "book_ratings = book_ratings[book_ratings['rating']!=0]\n",
    "\n",
    "#4. Prepare data for surprise: build a Suprise reader object\n",
    "from surprise import Reader\n",
    "reader = Reader(rating_scale=(1, 5))\n",
    "\n",
    "#5. Load `book_ratings` into a Surprise Dataset\n",
    "from surprise import Dataset\n",
    "rec_data = Dataset.load_from_df(book_ratings[['user_id',\n",
    "                                              'book_id',\n",
    "                                              'rating']],\n",
    "                                reader)\n",
    "\n",
    "#6. Create a 80:20 train-test split and set the random state to 7\n",
    "from surprise.model_selection import train_test_split\n",
    "trainset, testset = train_test_split(rec_data, test_size=.2, random_state=7)\n",
    "\n",
    "#7. Use KNNBasice from Surprise to train a collaborative filter\n",
    "from surprise import KNNBasic\n",
    "nn_algo = KNNBasic()\n",
    "nn_algo.fit(trainset)\n",
    "\n",
    "#8. Evaluate the recommender system\n",
    "from surprise import accuracy\n",
    "predictions = nn_algo.test(testset)\n",
    "accuracy.rmse(predictions)\n",
    "\n",
    "#9. Prediction on a user who gave the \"The Three-Body Problem\" a rating of 5\n",
    "print(nn_algo.predict('8842281e1d1347389f2ab93d60773d4d', '18007564').est)"
   ]
  }
 ],
 "metadata": {
  "kernelspec": {
   "display_name": "Python 3 (ipykernel)",
   "language": "python",
   "name": "python3"
  },
  "language_info": {
   "codemirror_mode": {
    "name": "ipython",
    "version": 3
   },
   "file_extension": ".py",
   "mimetype": "text/x-python",
   "name": "python",
   "nbconvert_exporter": "python",
   "pygments_lexer": "ipython3",
   "version": "3.11.5"
  }
 },
 "nbformat": 4,
 "nbformat_minor": 5
}
